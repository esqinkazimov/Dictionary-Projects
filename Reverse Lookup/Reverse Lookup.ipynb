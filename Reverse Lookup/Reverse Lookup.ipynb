{
 "cells": [
  {
   "cell_type": "code",
   "execution_count": 1,
   "metadata": {},
   "outputs": [
    {
     "name": "stdout",
     "output_type": "stream",
     "text": [
      "The owner names for ’051 363 92 10’ are:  ['Eshqin_ISE', 'Eshqin_FINACE']\n",
      "Expected: [’Eshqin_ISE’, ’Eshqin_FINANCE’]\n",
      "\n",
      "The the owner names for ’055 555 55 55’ are:  ['Farid']\n",
      "Expected: [’Farid’]\n",
      "\n",
      "The owner names for ’051 999 99 99’ are:  []\n",
      "Expected: []\n"
     ]
    }
   ],
   "source": [
    "## Conduct a reverse lookup on a dictionary, finding all of the keys that map to the provided value.\n",
    "\n",
    "## Conduct a reverse lookup on a dictionary\n",
    "# @param data the dictionary on which the reverse lookup is performed\n",
    "# @param value the value to search for in the dictionary\n",
    "# @return a list (possibly empty) of keys from data that map to value\n",
    "def reverseLookup(data, value):\n",
    "    # Construct a list of the keys that map to value\n",
    "    keys = []\n",
    "    \n",
    "    # Check each key and add it to keys if the values match\n",
    "    for key in data:\n",
    "        if data[key] == value:\n",
    "            keys.append(key)\n",
    "            \n",
    "    # Return the list of keys\n",
    "    return keys\n",
    "\n",
    "# Demonstrate the reverseLookup function\n",
    "def main():\n",
    "    # A dictionary mapping 4 phone numbers to their owner's names\n",
    "    numOwn = {\"Eshqin_ISE\" : \"051 363 92 10\", \"Eshqin_FINACE\" : \"051 363 92 10\", \"Farid\" : \"055 555 55 55\", \\\n",
    "            \"Orxan\" : \"077 777 77 77\"}\n",
    "    # Demonstrate the reverseLookup function with 3 cases: One that returns multiple keys,\n",
    "    # one that returns one key, and one that returns no keys\n",
    "    print(\"The owner names for ’051 363 92 10’ are: \", \\\n",
    "           reverseLookup(numOwn, \"051 363 92 10\"))\n",
    "    print(\"Expected: [’Eshqin_ISE’, ’Eshqin_FINANCE’]\")\n",
    "    print()\n",
    "    \n",
    "    print(\"The the owner names for ’055 555 55 55’ are: \", \\\n",
    "            reverseLookup(numOwn, \"055 555 55 55\"))\n",
    "    print(\"Expected: [’Farid’]\")\n",
    "    print()\n",
    "    print(\"The owner names for ’051 999 99 99’ are: \", \\\n",
    "            reverseLookup(numOwn, \"051 999 99 99\"))\n",
    "    print(\"Expected: []\")\n",
    "    \n",
    "# Call the main function only if this file has not been imported into another program\n",
    "if __name__ == \"__main__\":\n",
    "    main()"
   ]
  }
 ],
 "metadata": {
  "kernelspec": {
   "display_name": "Python 3",
   "language": "python",
   "name": "python3"
  },
  "language_info": {
   "codemirror_mode": {
    "name": "ipython",
    "version": 3
   },
   "file_extension": ".py",
   "mimetype": "text/x-python",
   "name": "python",
   "nbconvert_exporter": "python",
   "pygments_lexer": "ipython3",
   "version": "3.6.5"
  }
 },
 "nbformat": 4,
 "nbformat_minor": 2
}
