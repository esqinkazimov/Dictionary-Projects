{
 "cells": [
  {
   "cell_type": "code",
   "execution_count": 1,
   "metadata": {},
   "outputs": [
    {
     "name": "stdout",
     "output_type": "stream",
     "text": [
      " B  I  N  G  O\n",
      " 2 18 34 55 67 \n",
      "14 17 42 52 68 \n",
      "10 20  0 54 66 \n",
      "12 27 40 51 74 \n",
      " 4 26 41 46 64 \n"
     ]
    }
   ],
   "source": [
    "## Create and display a random Bingo card.\n",
    "\n",
    "from random import randrange\n",
    "\n",
    "NUMS_PER_LETTER = 15\n",
    "\n",
    "## Create a Bingo card with randomly generated numbers\n",
    "# @return a dictionary representing the card where the keys are the strings ‘‘B’’, ‘‘I’’, ‘‘N’’,\n",
    "# ‘‘G’’, and ‘‘O’’, and the values are lists of the numbers that appear under each letter\n",
    "# from top to bottom\n",
    "\n",
    "def createCard():\n",
    "    card = {}\n",
    "    \n",
    "    # The range of integers that can be generated for the current letter\n",
    "    lower = 1\n",
    "    upper = 1 + NUMS_PER_LETTER\n",
    "    \n",
    "    # For each of the five letters\n",
    "    for letter in [\"B\", \"I\", \"N\", \"G\", \"O\"]:\n",
    "        # Start with an empty list for the letter\n",
    "        card[letter] = []\n",
    "\n",
    "        # Keep generating random numbers until we have 5 unique ones\n",
    "        while len(card[letter]) != 5:\n",
    "            next_num = randrange(lower, upper)\n",
    "            # Ensure that we do not include any duplicate numbers\n",
    "            if next_num not in card[letter]:\n",
    "                card[letter].append(next_num)\n",
    "        \n",
    "        # Update the range of values that will be generated for the next letter\n",
    "        lower = lower + NUMS_PER_LETTER\n",
    "        upper = upper + NUMS_PER_LETTER\n",
    "        if letter == 'N':\n",
    "            card[letter][2] = '0'\n",
    "  \n",
    "    # Return the card\n",
    "    return card\n",
    "\n",
    "## Display a Bingo card with nice formatting\n",
    "# @param card the Bingo card to display\n",
    "# @return (None)\n",
    "\n",
    "def displayCard(card):\n",
    "    # Display the headings\n",
    "    print(\" B  I  N  G  O\")\n",
    "    \n",
    "    # Display the numbers on the card\n",
    "    for i in range(5):\n",
    "        for letter in [\"B\", \"I\", \"N\", \"G\", \"O\"]:\n",
    "            print(\"%2s \" % card[letter][i], end=\"\")\n",
    "        print()\n",
    "        \n",
    "# Create a random Bingo card and display it\n",
    "def main():\n",
    "    card = createCard()\n",
    "    displayCard(card)\n",
    "    \n",
    "# Call the main function only if this file has not been imported into another program\n",
    "if __name__ == \"__main__\":\n",
    "    main()"
   ]
  }
 ],
 "metadata": {
  "kernelspec": {
   "display_name": "Python 3",
   "language": "python",
   "name": "python3"
  },
  "language_info": {
   "codemirror_mode": {
    "name": "ipython",
    "version": 3
   },
   "file_extension": ".py",
   "mimetype": "text/x-python",
   "name": "python",
   "nbconvert_exporter": "python",
   "pygments_lexer": "ipython3",
   "version": "3.6.5"
  }
 },
 "nbformat": 4,
 "nbformat_minor": 2
}
