{
 "cells": [
  {
   "cell_type": "code",
   "execution_count": 1,
   "metadata": {},
   "outputs": [
    {
     "name": "stdout",
     "output_type": "stream",
     "text": [
      "Enter the first string: live\n",
      "Enter the second string: evil\n",
      "Those strings are anagrams.\n"
     ]
    }
   ],
   "source": [
    "## Determine whether or not two strings are anagrams and report the result.\n",
    "\n",
    "## Compute the frequency distribution for the characters in a string\n",
    "# @param s the string to process\n",
    "# @return a dictionary mapping each character to its count\n",
    "def characterCounts(s):\n",
    "    # Create a new, empty dictionary\n",
    "    counts = {}\n",
    "    # Update the count for each character in the string\n",
    "    for ch in s:\n",
    "        if ch in counts:\n",
    "            counts[ch] = counts[ch] + 1\n",
    "        else:\n",
    "            counts[ch] = 1\n",
    "            \n",
    "    # Return the result\n",
    "    return counts\n",
    "\n",
    "# Determine if two strings entered by the user are anagrams\n",
    "def main():\n",
    "    # Read the strings from the user\n",
    "    s1 = input(\"Enter the first string: \")\n",
    "    s2 = input(\"Enter the second string: \")\n",
    "    \n",
    "    # Get the character counts for each string\n",
    "    counts1 = characterCounts(s1)\n",
    "    counts2 = characterCounts(s2)\n",
    "    \n",
    "    # Display the result\n",
    "    if counts1 == counts2:\n",
    "        print(\"Those strings are anagrams.\")\n",
    "    else:\n",
    "        print(\"Those strings are not anagrams.\")\n",
    "        \n",
    "# Call the main function\n",
    "main()"
   ]
  }
 ],
 "metadata": {
  "kernelspec": {
   "display_name": "Python 3",
   "language": "python",
   "name": "python3"
  },
  "language_info": {
   "codemirror_mode": {
    "name": "ipython",
    "version": 3
   },
   "file_extension": ".py",
   "mimetype": "text/x-python",
   "name": "python",
   "nbconvert_exporter": "python",
   "pygments_lexer": "ipython3",
   "version": "3.6.5"
  }
 },
 "nbformat": 4,
 "nbformat_minor": 2
}
