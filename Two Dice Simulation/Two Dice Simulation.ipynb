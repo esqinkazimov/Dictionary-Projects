{
 "cells": [
  {
   "cell_type": "code",
   "execution_count": 1,
   "metadata": {},
   "outputs": [
    {
     "name": "stdout",
     "output_type": "stream",
     "text": [
      "Enter the number of rollings: 10000\n",
      "Total    Simulated    Expected\n",
      "           Percent     Percent\n",
      "    2        2.76        2.78\n",
      "    3        5.47        5.56\n",
      "    4        8.45        8.33\n",
      "    5       10.64       11.11\n",
      "    6       13.48       13.89\n",
      "    7       16.84       16.67\n",
      "    8       14.31       13.89\n",
      "    9       11.12       11.11\n",
      "   10        8.29        8.33\n",
      "   11        5.89        5.56\n",
      "   12        2.75        2.78\n"
     ]
    }
   ],
   "source": [
    "## Simulate rolling two dice many times and compare the simulated results to the results\n",
    "## expected by probability theory.\n",
    "\n",
    "from random import randrange\n",
    "\n",
    "D_MAX = 6\n",
    "\n",
    "## Simulate rolling two six-sided dice\n",
    "# @return the total from rolling two simulated dice\n",
    "\n",
    "def twoDice():\n",
    "    # Simulate two dice\n",
    "    d1 = randrange(1, D_MAX + 1)\n",
    "    d2 = randrange(1, D_MAX + 1)\n",
    "    \n",
    "    # Return the total\n",
    "    return d1 + d2\n",
    "\n",
    "# Simulate many rolls and display the result\n",
    "def main():\n",
    "    \n",
    "    NUM_RUNS = int(input('Enter the number of rollings: '))\n",
    "    # Create a dictionary of expected proportions\n",
    "    expected = {2: 1/36, 3: 2/36, 4: 3/36, 5: 4/36, 6: 5/36, \\\n",
    "                7: 6/36, 8: 5/36, 9: 4/36, 10: 3/36, \\\n",
    "                11: 2/36, 12: 1/36}\n",
    "    \n",
    "    # Create a dictionary that maps from the total of two dice to the number of occurrences\n",
    "    counts = {2: 0, 3: 0, 4: 0, 5: 0, 6: 0, 7: 0, \\\n",
    "              8: 0, 9: 0, 10: 0, 11: 0, 12: 0}\n",
    "    \n",
    "    # Simulate NUM RUNS rolls, and count each roll\n",
    "    for i in range(NUM_RUNS):\n",
    "        t = twoDice()\n",
    "        counts[t] = counts[t] + 1\n",
    "        \n",
    "    # Display the simulated proportions and the expected proportions\n",
    "    print(\"Total    Simulated    Expected\")\n",
    "    print(\"           Percent     Percent\")\n",
    "    for i in sorted(counts.keys()):\n",
    "        print(\"%5d %11.2f %11.2f\" % \\\n",
    "             (i, counts[i] / NUM_RUNS * 100, expected[i] * 100))\n",
    "        \n",
    "# Call the main function\n",
    "main()"
   ]
  },
  {
   "cell_type": "code",
   "execution_count": null,
   "metadata": {},
   "outputs": [],
   "source": []
  }
 ],
 "metadata": {
  "kernelspec": {
   "display_name": "Python 3",
   "language": "python",
   "name": "python3"
  },
  "language_info": {
   "codemirror_mode": {
    "name": "ipython",
    "version": 3
   },
   "file_extension": ".py",
   "mimetype": "text/x-python",
   "name": "python",
   "nbconvert_exporter": "python",
   "pygments_lexer": "ipython3",
   "version": "3.6.5"
  }
 },
 "nbformat": 4,
 "nbformat_minor": 2
}
