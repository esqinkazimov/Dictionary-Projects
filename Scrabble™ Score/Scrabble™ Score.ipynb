{
 "cells": [
  {
   "cell_type": "code",
   "execution_count": 1,
   "metadata": {},
   "outputs": [
    {
     "name": "stdout",
     "output_type": "stream",
     "text": [
      "Enter a word: Whatsapp\n",
      "Whatsapp is worth 18 points.\n"
     ]
    }
   ],
   "source": [
    "## Use a dictionary to compute the Scrabble™ score for a word.\n",
    "\n",
    "# Initialize the dictionary so that it maps from letters to points\n",
    "points = {\"A\": 1, \"B\": 3, \"C\": 3, \"D\": 2, \"E\": 1, \"F\": 4, \\\n",
    "          \"G\": 2, \"H\": 4, \"I\": 1, \"J\": 2, \"K\": 5, \"L\": 1, \\\n",
    "          \"M\": 3, \"N\": 1, \"O\": 1, \"P\": 3, \"Q\": 10, \"R\": 1, \\\n",
    "          \"S\": 1, \"T\": 1, \"U\": 1, \"V\": 4, \"W\": 4, \"X\": 8,\n",
    "          \"Y\": 4, \"Z\": 10}\n",
    "\n",
    "# Read a word from the user\n",
    "word = input(\"Enter a word: \")\n",
    "\n",
    "# Compute the score for the word\n",
    "uppercase = word.upper()\n",
    "score = 0\n",
    "for ch in uppercase:\n",
    "    score = score + points[ch]\n",
    "    \n",
    "# Display the result\n",
    "print(word, \"is worth\", score, \"points.\")"
   ]
  }
 ],
 "metadata": {
  "kernelspec": {
   "display_name": "Python 3",
   "language": "python",
   "name": "python3"
  },
  "language_info": {
   "codemirror_mode": {
    "name": "ipython",
    "version": 3
   },
   "file_extension": ".py",
   "mimetype": "text/x-python",
   "name": "python",
   "nbconvert_exporter": "python",
   "pygments_lexer": "ipython3",
   "version": "3.6.5"
  }
 },
 "nbformat": 4,
 "nbformat_minor": 2
}
